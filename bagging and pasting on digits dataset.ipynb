{
 "cells": [
  {
   "cell_type": "code",
   "execution_count": 1,
   "metadata": {},
   "outputs": [],
   "source": [
    "import pandas as np\n",
    "import sklearn\n",
    "from sklearn.ensemble import BaggingClassifier\n",
    "from sklearn.tree import DecisionTreeClassifier"
   ]
  },
  {
   "cell_type": "code",
   "execution_count": 4,
   "metadata": {},
   "outputs": [],
   "source": [
    "# loading the digits data\n",
    "from sklearn.datasets import load_digits\n",
    "from sklearn.model_selection import train_test_split\n",
    "\n",
    "digit_data = load_digits()\n",
    "X_train, X_test, y_train, y_test = train_test_split(digit_data.data, digit_data.target, test_size=0.2)\n"
   ]
  },
  {
   "cell_type": "code",
   "execution_count": 5,
   "metadata": {},
   "outputs": [
    {
     "data": {
      "text/plain": [
       "0.9444444444444444"
      ]
     },
     "execution_count": 5,
     "metadata": {},
     "output_type": "execute_result"
    }
   ],
   "source": [
    "# now using 500 decision trees on 100 random training instances from training set\n",
    "# this is bagging because bootstrap is True\n",
    "#n_estimators is the no. of trees\n",
    "# n_job is the number of cores available (-1 is the all the available Cpu core)\n",
    "# max samples is the no.of random training instances for 1 tree\n",
    "\n",
    "bagging = BaggingClassifier(DecisionTreeClassifier(), n_estimators=500, n_jobs=-1, bootstrap=True, max_samples=100)\n",
    "bagging.fit(X_train, y_train)\n",
    "bagging.score(X_test, y_test)"
   ]
  },
  {
   "cell_type": "code",
   "execution_count": 6,
   "metadata": {},
   "outputs": [
    {
     "data": {
      "text/plain": [
       "0.9583333333333334"
      ]
     },
     "execution_count": 6,
     "metadata": {},
     "output_type": "execute_result"
    }
   ],
   "source": [
    "# this is pasting\n",
    "# here the instances doesnt repeat and we just have to set the bootstrap to false\n",
    "\n",
    "bagging = BaggingClassifier(DecisionTreeClassifier(), n_estimators=500, n_jobs=-1, bootstrap=False, max_samples=100)\n",
    "bagging.fit(X_train, y_train)\n",
    "bagging.score(X_test, y_test)"
   ]
  },
  {
   "cell_type": "code",
   "execution_count": 10,
   "metadata": {},
   "outputs": [
    {
     "name": "stdout",
     "output_type": "stream",
     "text": [
      "best score :  0.9478079331941545\n",
      "best params :  {'bootstrap': 'True', 'max_samples': 800, 'n_estimators': 1000}\n"
     ]
    }
   ],
   "source": [
    "# lets use grid search cv to see the best parameters\n",
    "# and to discover that which one performs good - bagging or pasting\n",
    "from sklearn.model_selection import GridSearchCV\n",
    "\n",
    "parameters = [{\"n_estimators\" : [300,500,1000], \"max_samples\": [500,800], \"bootstrap\": [\"True\", \"False\"] }]\n",
    "grid_search = GridSearchCV(BaggingClassifier(), parameters, cv=3)\n",
    "grid_search.fit(X_train, y_train)\n",
    "print(\"best score : \", grid_search.best_score_)\n",
    "print(\"best params : \", grid_search.best_params_)\n"
   ]
  },
  {
   "cell_type": "code",
   "execution_count": null,
   "metadata": {},
   "outputs": [],
   "source": []
  }
 ],
 "metadata": {
  "interpreter": {
   "hash": "c569cd2e17f62341e0f08a54f9a867c3c0d3a6f67454072d7de41a8b5dff8343"
  },
  "kernelspec": {
   "display_name": "Python 3.9.5 64-bit",
   "name": "python3"
  },
  "language_info": {
   "codemirror_mode": {
    "name": "ipython",
    "version": 3
   },
   "file_extension": ".py",
   "mimetype": "text/x-python",
   "name": "python",
   "nbconvert_exporter": "python",
   "pygments_lexer": "ipython3",
   "version": "3.9.5"
  },
  "orig_nbformat": 4
 },
 "nbformat": 4,
 "nbformat_minor": 2
}
